{
 "cells": [
  {
   "cell_type": "code",
   "id": "initial_id",
   "metadata": {
    "collapsed": true,
    "ExecuteTime": {
     "end_time": "2025-01-17T15:09:52.629163Z",
     "start_time": "2025-01-17T15:09:43.180082Z"
    }
   },
   "source": [
    "import deeplabcut\n",
    "\n",
    "deeplabcut.create_new_project(\n",
    "    'BaseballRemoteProject',\n",
    "    'YourName',\n",
    "    [r'C:\\Users\\q\\PycharmProjects\\Remote3D\\demo_vid.mov'],\n",
    "    working_directory=r'C:\\Users\\q\\PycharmProjects\\Remote3D',\n",
    "    copy_videos=True\n",
    ")\n"
   ],
   "outputs": [
    {
     "name": "stdout",
     "output_type": "stream",
     "text": [
      "Loading DLC 2.3.9...\n",
      "Created \"C:\\Users\\q\\PycharmProjects\\Remote3D\\BaseballRemoteProject-YourName-2025-01-17\\videos\"\n",
      "Created \"C:\\Users\\q\\PycharmProjects\\Remote3D\\BaseballRemoteProject-YourName-2025-01-17\\labeled-data\"\n",
      "Created \"C:\\Users\\q\\PycharmProjects\\Remote3D\\BaseballRemoteProject-YourName-2025-01-17\\training-datasets\"\n",
      "Created \"C:\\Users\\q\\PycharmProjects\\Remote3D\\BaseballRemoteProject-YourName-2025-01-17\\dlc-models\"\n",
      "Copying the videos\n",
      "C:\\Users\\q\\PycharmProjects\\Remote3D\\BaseballRemoteProject-YourName-2025-01-17\\videos\\demo_vid.mov\n",
      "Generated \"C:\\Users\\q\\PycharmProjects\\Remote3D\\BaseballRemoteProject-YourName-2025-01-17\\config.yaml\"\n",
      "\n",
      "A new project with name BaseballRemoteProject-YourName-2025-01-17 is created at C:\\Users\\q\\PycharmProjects\\Remote3D and a configurable file (config.yaml) is stored there. Change the parameters in this file to adapt to your project's needs.\n",
      " Once you have changed the configuration file, use the function 'extract_frames' to select frames for labeling.\n",
      ". [OPTIONAL] Use the function 'add_new_videos' to add new videos to your project (at any stage).\n"
     ]
    },
    {
     "data": {
      "text/plain": [
       "'C:\\\\Users\\\\q\\\\PycharmProjects\\\\Remote3D\\\\BaseballRemoteProject-YourName-2025-01-17\\\\config.yaml'"
      ]
     },
     "execution_count": 2,
     "metadata": {},
     "output_type": "execute_result"
    }
   ],
   "execution_count": 2
  },
  {
   "metadata": {
    "ExecuteTime": {
     "end_time": "2025-01-17T15:10:07.122621Z",
     "start_time": "2025-01-17T15:10:02.901673Z"
    }
   },
   "cell_type": "code",
   "source": [
    "import deeplabcut\n",
    "\n",
    "config_path = r'C:\\Users\\q\\PycharmProjects\\Remote3D\\BaseballRemoteProject-YourName-2025-01-16\\config.yaml'\n",
    "\n",
    "deeplabcut.extract_frames(\n",
    "    config_path,\n",
    "    mode='automatic',    # or 'manual'\n",
    "    algo='kmeans',       # or 'uniform'\n",
    "    crop=False\n",
    ")\n"
   ],
   "id": "ab10693d7f177f07",
   "outputs": [
    {
     "name": "stdout",
     "output_type": "stream",
     "text": [
      "Config file read successfully.\n",
      "Do you want to extract (perhaps additional) frames for video: C:\\Users\\q\\PycharmProjects\\Remote3D\\BaseballRemoteProject-YourName-2025-01-16\\videos\\demo_vid.mov ?\n",
      "Frames were successfully extracted, for the videos listed in the config.yaml file.\n",
      "\n",
      "You can now label the frames using the function 'label_frames' (Note, you should label frames extracted from diverse videos (and many videos; we do not recommend training on single videos!)).\n"
     ]
    }
   ],
   "execution_count": 4
  },
  {
   "metadata": {
    "ExecuteTime": {
     "end_time": "2025-01-17T15:10:16.599999Z",
     "start_time": "2025-01-17T15:10:09.930075Z"
    }
   },
   "cell_type": "code",
   "source": "deeplabcut.label_frames(config_path)\n",
   "id": "2d0c35961c8cf7b3",
   "outputs": [],
   "execution_count": 5
  },
  {
   "metadata": {},
   "cell_type": "code",
   "outputs": [],
   "execution_count": null,
   "source": "",
   "id": "6eda3f1350484c24"
  }
 ],
 "metadata": {
  "kernelspec": {
   "display_name": "Python 3",
   "language": "python",
   "name": "python3"
  },
  "language_info": {
   "codemirror_mode": {
    "name": "ipython",
    "version": 2
   },
   "file_extension": ".py",
   "mimetype": "text/x-python",
   "name": "python",
   "nbconvert_exporter": "python",
   "pygments_lexer": "ipython2",
   "version": "2.7.6"
  }
 },
 "nbformat": 4,
 "nbformat_minor": 5
}
