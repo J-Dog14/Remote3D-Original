{
 "cells": [
  {
   "metadata": {},
   "cell_type": "code",
   "outputs": [
    {
     "name": "stdout",
     "output_type": "stream",
     "text": [
      "Created \"C:\\Users\\Joey\\PycharmProjects\\Remote3D-Original\\BaseballRemoteProject-ryan_two-2025-01-27\\videos\"\n",
      "Created \"C:\\Users\\Joey\\PycharmProjects\\Remote3D-Original\\BaseballRemoteProject-ryan_two-2025-01-27\\labeled-data\"\n",
      "Created \"C:\\Users\\Joey\\PycharmProjects\\Remote3D-Original\\BaseballRemoteProject-ryan_two-2025-01-27\\training-datasets\"\n",
      "Created \"C:\\Users\\Joey\\PycharmProjects\\Remote3D-Original\\BaseballRemoteProject-ryan_two-2025-01-27\\dlc-models\"\n",
      "Copying the videos\n",
      "C:\\Users\\Joey\\PycharmProjects\\Remote3D-Original\\BaseballRemoteProject-ryan_two-2025-01-27\\videos\\ryan_two.mov\n",
      "Generated \"C:\\Users\\Joey\\PycharmProjects\\Remote3D-Original\\BaseballRemoteProject-ryan_two-2025-01-27\\config.yaml\"\n",
      "\n",
      "A new project with name BaseballRemoteProject-ryan_two-2025-01-27 is created at C:\\Users\\Joey\\PycharmProjects\\Remote3D-Original and a configurable file (config.yaml) is stored there. Change the parameters in this file to adapt to your project's needs.\n",
      " Once you have changed the configuration file, use the function 'extract_frames' to select frames for labeling.\n",
      ". [OPTIONAL] Use the function 'add_new_videos' to add new videos to your project (at any stage).\n",
      "Config path returned by create_new_project:\n",
      "C:\\Users\\Joey\\PycharmProjects\\Remote3D-Original\\BaseballRemoteProject-ryan_two-2025-01-27\\config.yaml\n",
      "Saved config path to current_config_path.txt. You can now run Cell 2 (extract frames, etc).\n"
     ]
    }
   ],
   "execution_count": 34,
   "source": [
    "import tkinter as tk\n",
    "from tkinter import filedialog\n",
    "import os\n",
    "import deeplabcut\n",
    "import ruamel.yaml\n",
    "\n",
    "root = tk.Tk()\n",
    "root.withdraw()\n",
    "\n",
    "initial_dir = r'C:\\Users\\Joey\\PycharmProjects\\Remote3D-Original\\data'\n",
    "\n",
    "video_path = filedialog.askopenfilename(\n",
    "    initialdir=initial_dir,\n",
    "    title='Select a Video File',\n",
    "    filetypes=[(\"Video Files\", \"*.mov *.mp4 *.avi *.mkv *.flv *.wmv\")]\n",
    ")\n",
    "\n",
    "if video_path:\n",
    "    video_filename = os.path.basename(video_path)\n",
    "    base_name = os.path.splitext(video_filename)[0]\n",
    "\n",
    "    project_name = \"BaseballRemoteProject\"\n",
    "    your_name = base_name\n",
    "\n",
    "    working_dir = r'C:\\Users\\Joey\\PycharmProjects\\Remote3D-Original'\n",
    "\n",
    "    # Create the new DLC project (this returns config path in your DLC version)\n",
    "    config_path = deeplabcut.create_new_project(\n",
    "        project_name,\n",
    "        your_name,\n",
    "        [video_path],\n",
    "        working_directory=working_dir,\n",
    "        copy_videos=True\n",
    "    )\n",
    "\n",
    "    print(f\"Config path returned by create_new_project:\\n{config_path}\")\n",
    "\n",
    "    # Define a function to update the config with your standard parts:\n",
    "    def update_config(config_path, new_entries_dict):\n",
    "        # Create a 'safe' YAML loader/dumper\n",
    "        yaml = ruamel.yaml.YAML(typ='safe', pure=True)\n",
    "        \n",
    "        # 1) Load the config\n",
    "        with open(config_path, 'r') as f:\n",
    "            cfg = yaml.load(f)\n",
    "    \n",
    "        # 2) Update bodyparts/skeleton (or other fields)\n",
    "        if \"bodyparts\" in new_entries_dict:\n",
    "            cfg[\"bodyparts\"] = new_entries_dict[\"bodyparts\"]\n",
    "        if \"skeleton\" in new_entries_dict:\n",
    "            cfg[\"skeleton\"] = new_entries_dict[\"skeleton\"]\n",
    "    \n",
    "        # 3) Save the updated config\n",
    "        with open(config_path, 'w') as f:\n",
    "            yaml.dump(cfg, f)\n",
    "\n",
    "\n",
    "    my_bodyparts = [\n",
    "        \"right_shoulder\", \"right_elbow\", \"right_wrist\",\n",
    "        \"left_shoulder\", \"left_elbow\", \"left_wrist\",\n",
    "        \"right_hip\", \"left_hip\", \"left_knee\", \"right_knee\",\n",
    "        \"left_ankle\", \"right_ankle\"\n",
    "    ]\n",
    "\n",
    "    my_skeleton = [\n",
    "        # Right arm\n",
    "        [\"right_shoulder\", \"right_elbow\"],\n",
    "        [\"right_elbow\",    \"right_wrist\"],\n",
    "\n",
    "        # Left arm\n",
    "        [\"left_shoulder\", \"left_elbow\"],\n",
    "        [\"left_elbow\",    \"left_wrist\"],\n",
    "\n",
    "        # Upper body (shoulders)\n",
    "        [\"left_shoulder\",  \"right_shoulder\"],\n",
    "\n",
    "        # Core/trunk\n",
    "        [\"left_shoulder\",  \"left_hip\"],\n",
    "        [\"right_shoulder\", \"right_hip\"],\n",
    "        [\"left_hip\",       \"right_hip\"],\n",
    "\n",
    "        # Left leg\n",
    "        [\"left_hip\",  \"left_knee\"],\n",
    "        [\"left_knee\", \"left_ankle\"],\n",
    "\n",
    "        # Right leg\n",
    "        [\"right_hip\",  \"right_knee\"],\n",
    "        [\"right_knee\", \"right_ankle\"]\n",
    "    ]\n",
    "\n",
    "    # Use the function to set your standard bodyparts/skeleton:\n",
    "    update_config(config_path, {\"bodyparts\": my_bodyparts, \"skeleton\": my_skeleton})\n",
    "\n",
    "    # Save config path for use later (e.g., in another cell)\n",
    "    with open(\"current_config_path.txt\", \"w\") as f:\n",
    "        f.write(config_path)\n",
    "\n",
    "    print(\"Saved config path to current_config_path.txt. You can now run Cell 2 (extract frames, etc).\")\n",
    "else:\n",
    "    print(\"No video was selected.\")\n"
   ],
   "id": "d11c61a40317d9d1"
  },
  {
   "metadata": {},
   "cell_type": "code",
   "execution_count": 39,
   "source": [
    "import deeplabcut\n",
    "import os\n",
    "import datetime\n",
    "\n",
    "# 1) List out all the .mov file paths you want in the new project\n",
    "video_paths = [\n",
    "    r\"C:\\Users\\Joey\\PycharmProjects\\Remote3D-Original\\BaseballRemoteProject-test_two-2025-01-24\\videos\\test_two.mov\"\n",
    "]\n",
    "\n",
    "# 2) Create the new DLC project\n",
    "#    This should copy all videos into the new project folder automatically (if copy_videos=True).\n",
    "project_name = \"RemotePitchingProject\"\n",
    "your_name = \"Joey\"\n",
    "working_dir = r\"C:\\Users\\Joey\\PycharmProjects\\Remote3D-Original\"\n",
    "\n",
    "new_config_path = deeplabcut.create_new_project(\n",
    "    project_name,\n",
    "    your_name,\n",
    "    video_paths,\n",
    "    working_directory=working_dir,\n",
    "    copy_videos=True  # so DLC copies them into \"videos/\" in the new folder\n",
    ")\n",
    "\n",
    "print(\"New project config path:\", new_config_path)\n"
   ],
   "id": "9d071f81aafa78f9",
   "outputs": []
  },
  {
   "metadata": {
    "ExecuteTime": {
     "end_time": "2025-01-27T23:02:28.261314Z",
     "start_time": "2025-01-27T23:02:25.617508Z"
    }
   },
   "cell_type": "code",
   "source": [
    "# Create the training set, combining all labeled frames in the new project\n",
    "deeplabcut.create_training_dataset(new_config_path)\n",
    "\n",
    "# Train the model\n",
    "deeplabcut.train_network(\n",
    "    new_config_path,\n",
    "    shuffle=1,\n",
    "    displayiters=1000,\n",
    "    saveiters=5000,\n",
    "    maxiters=200000\n",
    ")\n",
    "\n",
    "# Evaluate\n",
    "deeplabcut.evaluate_network(new_config_path, plotting=True)\n"
   ],
   "id": "338114da0e26766d",
   "outputs": [
    {
     "name": "stdout",
     "output_type": "stream",
     "text": [
      "C:\\Users\\Joey\\PycharmProjects\\Remote3D-Original\\RemotePitchingProject-Joey-2025-01-27\\labeled-data\\ryan_two\\CollectedData_Joey.h5  not found (perhaps not annotated).\n",
      "C:\\Users\\Joey\\PycharmProjects\\Remote3D-Original\\RemotePitchingProject-Joey-2025-01-27\\labeled-data\\ryan_one\\CollectedData_Joey.h5  not found (perhaps not annotated).\n",
      "C:\\Users\\Joey\\PycharmProjects\\Remote3D-Original\\RemotePitchingProject-Joey-2025-01-27\\labeled-data\\ryan_three\\CollectedData_Joey.h5  not found (perhaps not annotated).\n",
      "C:\\Users\\Joey\\PycharmProjects\\Remote3D-Original\\RemotePitchingProject-Joey-2025-01-27\\labeled-data\\ryan_four\\CollectedData_Joey.h5  not found (perhaps not annotated).\n",
      "C:\\Users\\Joey\\PycharmProjects\\Remote3D-Original\\RemotePitchingProject-Joey-2025-01-27\\labeled-data\\ryan_five\\CollectedData_Joey.h5  not found (perhaps not annotated).\n",
      "C:\\Users\\Joey\\PycharmProjects\\Remote3D-Original\\RemotePitchingProject-Joey-2025-01-27\\labeled-data\\ryan_six\\CollectedData_Joey.h5  not found (perhaps not annotated).\n",
      "C:\\Users\\Joey\\PycharmProjects\\Remote3D-Original\\RemotePitchingProject-Joey-2025-01-27\\labeled-data\\ryan_seven\\CollectedData_Joey.h5  not found (perhaps not annotated).\n",
      "C:\\Users\\Joey\\PycharmProjects\\Remote3D-Original\\RemotePitchingProject-Joey-2025-01-27\\labeled-data\\ryan_eight\\CollectedData_Joey.h5  not found (perhaps not annotated).\n",
      "C:\\Users\\Joey\\PycharmProjects\\Remote3D-Original\\RemotePitchingProject-Joey-2025-01-27\\labeled-data\\ryan_nine\\CollectedData_Joey.h5  not found (perhaps not annotated).\n",
      "C:\\Users\\Joey\\PycharmProjects\\Remote3D-Original\\RemotePitchingProject-Joey-2025-01-27\\labeled-data\\ryan_ten\\CollectedData_Joey.h5  not found (perhaps not annotated).\n",
      "C:\\Users\\Joey\\PycharmProjects\\Remote3D-Original\\RemotePitchingProject-Joey-2025-01-27\\labeled-data\\ryan_eleven\\CollectedData_Joey.h5  not found (perhaps not annotated).\n",
      "C:\\Users\\Joey\\PycharmProjects\\Remote3D-Original\\RemotePitchingProject-Joey-2025-01-27\\labeled-data\\ryan_twelve\\CollectedData_Joey.h5  not found (perhaps not annotated).\n",
      "Annotation data was not found by splitting video paths (from config['video_sets']). An alternative route is taken...\n",
      "The following folders were found: ['C:\\\\Users\\\\Joey\\\\PycharmProjects\\\\Remote3D-Original\\\\RemotePitchingProject-Joey-2025-01-27\\\\labeled-data\\\\ryan_eight', 'C:\\\\Users\\\\Joey\\\\PycharmProjects\\\\Remote3D-Original\\\\RemotePitchingProject-Joey-2025-01-27\\\\labeled-data\\\\ryan_eleven', 'C:\\\\Users\\\\Joey\\\\PycharmProjects\\\\Remote3D-Original\\\\RemotePitchingProject-Joey-2025-01-27\\\\labeled-data\\\\ryan_five', 'C:\\\\Users\\\\Joey\\\\PycharmProjects\\\\Remote3D-Original\\\\RemotePitchingProject-Joey-2025-01-27\\\\labeled-data\\\\ryan_four', 'C:\\\\Users\\\\Joey\\\\PycharmProjects\\\\Remote3D-Original\\\\RemotePitchingProject-Joey-2025-01-27\\\\labeled-data\\\\ryan_nine', 'C:\\\\Users\\\\Joey\\\\PycharmProjects\\\\Remote3D-Original\\\\RemotePitchingProject-Joey-2025-01-27\\\\labeled-data\\\\ryan_one', 'C:\\\\Users\\\\Joey\\\\PycharmProjects\\\\Remote3D-Original\\\\RemotePitchingProject-Joey-2025-01-27\\\\labeled-data\\\\ryan_seven', 'C:\\\\Users\\\\Joey\\\\PycharmProjects\\\\Remote3D-Original\\\\RemotePitchingProject-Joey-2025-01-27\\\\labeled-data\\\\ryan_six', 'C:\\\\Users\\\\Joey\\\\PycharmProjects\\\\Remote3D-Original\\\\RemotePitchingProject-Joey-2025-01-27\\\\labeled-data\\\\ryan_ten', 'C:\\\\Users\\\\Joey\\\\PycharmProjects\\\\Remote3D-Original\\\\RemotePitchingProject-Joey-2025-01-27\\\\labeled-data\\\\ryan_three', 'C:\\\\Users\\\\Joey\\\\PycharmProjects\\\\Remote3D-Original\\\\RemotePitchingProject-Joey-2025-01-27\\\\labeled-data\\\\ryan_twelve', 'C:\\\\Users\\\\Joey\\\\PycharmProjects\\\\Remote3D-Original\\\\RemotePitchingProject-Joey-2025-01-27\\\\labeled-data\\\\ryan_two', 'C:\\\\Users\\\\Joey\\\\PycharmProjects\\\\Remote3D-Original\\\\RemotePitchingProject-Joey-2025-01-27\\\\labeled-data\\\\test_two']\n",
      "C:\\Users\\Joey\\PycharmProjects\\Remote3D-Original\\RemotePitchingProject-Joey-2025-01-27\\labeled-data\\ryan_eight\\CollectedData_Joey.h5  not found (perhaps not annotated)\n",
      "C:\\Users\\Joey\\PycharmProjects\\Remote3D-Original\\RemotePitchingProject-Joey-2025-01-27\\labeled-data\\ryan_eleven\\CollectedData_Joey.h5  not found (perhaps not annotated)\n",
      "C:\\Users\\Joey\\PycharmProjects\\Remote3D-Original\\RemotePitchingProject-Joey-2025-01-27\\labeled-data\\ryan_five\\CollectedData_Joey.h5  not found (perhaps not annotated)\n",
      "C:\\Users\\Joey\\PycharmProjects\\Remote3D-Original\\RemotePitchingProject-Joey-2025-01-27\\labeled-data\\ryan_four\\CollectedData_Joey.h5  not found (perhaps not annotated)\n",
      "C:\\Users\\Joey\\PycharmProjects\\Remote3D-Original\\RemotePitchingProject-Joey-2025-01-27\\labeled-data\\ryan_nine\\CollectedData_Joey.h5  not found (perhaps not annotated)\n",
      "C:\\Users\\Joey\\PycharmProjects\\Remote3D-Original\\RemotePitchingProject-Joey-2025-01-27\\labeled-data\\ryan_one\\CollectedData_Joey.h5  not found (perhaps not annotated)\n",
      "C:\\Users\\Joey\\PycharmProjects\\Remote3D-Original\\RemotePitchingProject-Joey-2025-01-27\\labeled-data\\ryan_seven\\CollectedData_Joey.h5  not found (perhaps not annotated)\n",
      "C:\\Users\\Joey\\PycharmProjects\\Remote3D-Original\\RemotePitchingProject-Joey-2025-01-27\\labeled-data\\ryan_six\\CollectedData_Joey.h5  not found (perhaps not annotated)\n",
      "C:\\Users\\Joey\\PycharmProjects\\Remote3D-Original\\RemotePitchingProject-Joey-2025-01-27\\labeled-data\\ryan_ten\\CollectedData_Joey.h5  not found (perhaps not annotated)\n",
      "C:\\Users\\Joey\\PycharmProjects\\Remote3D-Original\\RemotePitchingProject-Joey-2025-01-27\\labeled-data\\ryan_three\\CollectedData_Joey.h5  not found (perhaps not annotated)\n",
      "C:\\Users\\Joey\\PycharmProjects\\Remote3D-Original\\RemotePitchingProject-Joey-2025-01-27\\labeled-data\\ryan_twelve\\CollectedData_Joey.h5  not found (perhaps not annotated)\n",
      "C:\\Users\\Joey\\PycharmProjects\\Remote3D-Original\\RemotePitchingProject-Joey-2025-01-27\\labeled-data\\ryan_two\\CollectedData_Joey.h5  not found (perhaps not annotated)\n",
      "C:\\Users\\Joey\\PycharmProjects\\Remote3D-Original\\RemotePitchingProject-Joey-2025-01-27\\labeled-data\\test_two\\CollectedData_Joey.h5  not found (perhaps not annotated)\n",
      "No data was found!\n",
      "The training datafile  C:\\Users\\Joey\\PycharmProjects\\Remote3D-Original\\RemotePitchingProject-Joey-2025-01-27\\dlc-models\\iteration-0\\RemotePitchingProjectJan27-trainset95shuffle1\\train\\pose_cfg.yaml  is not present.\n",
      "Probably, the training dataset for this specific shuffle index was not created.\n",
      "Try with a different shuffle/trainingsetfraction or use function 'create_training_dataset' to create a new trainingdataset with this shuffle index.\n"
     ]
    },
    {
     "ename": "FileNotFoundError",
     "evalue": "Config C:\\Users\\Joey\\PycharmProjects\\Remote3D-Original\\RemotePitchingProject-Joey-2025-01-27\\dlc-models\\iteration-0\\RemotePitchingProjectJan27-trainset95shuffle1\\train\\pose_cfg.yaml is not found. Please make sure that the file exists.",
     "output_type": "error",
     "traceback": [
      "\u001B[1;31m---------------------------------------------------------------------------\u001B[0m",
      "\u001B[1;31mFileNotFoundError\u001B[0m                         Traceback (most recent call last)",
      "Cell \u001B[1;32mIn[41], line 5\u001B[0m\n\u001B[0;32m      2\u001B[0m deeplabcut\u001B[38;5;241m.\u001B[39mcreate_training_dataset(new_config_path)\n\u001B[0;32m      4\u001B[0m \u001B[38;5;66;03m# Train the model\u001B[39;00m\n\u001B[1;32m----> 5\u001B[0m \u001B[43mdeeplabcut\u001B[49m\u001B[38;5;241;43m.\u001B[39;49m\u001B[43mtrain_network\u001B[49m\u001B[43m(\u001B[49m\n\u001B[0;32m      6\u001B[0m \u001B[43m    \u001B[49m\u001B[43mnew_config_path\u001B[49m\u001B[43m,\u001B[49m\n\u001B[0;32m      7\u001B[0m \u001B[43m    \u001B[49m\u001B[43mshuffle\u001B[49m\u001B[38;5;241;43m=\u001B[39;49m\u001B[38;5;241;43m1\u001B[39;49m\u001B[43m,\u001B[49m\n\u001B[0;32m      8\u001B[0m \u001B[43m    \u001B[49m\u001B[43mdisplayiters\u001B[49m\u001B[38;5;241;43m=\u001B[39;49m\u001B[38;5;241;43m1000\u001B[39;49m\u001B[43m,\u001B[49m\n\u001B[0;32m      9\u001B[0m \u001B[43m    \u001B[49m\u001B[43msaveiters\u001B[49m\u001B[38;5;241;43m=\u001B[39;49m\u001B[38;5;241;43m5000\u001B[39;49m\u001B[43m,\u001B[49m\n\u001B[0;32m     10\u001B[0m \u001B[43m    \u001B[49m\u001B[43mmaxiters\u001B[49m\u001B[38;5;241;43m=\u001B[39;49m\u001B[38;5;241;43m200000\u001B[39;49m\n\u001B[0;32m     11\u001B[0m \u001B[43m)\u001B[49m\n\u001B[0;32m     13\u001B[0m \u001B[38;5;66;03m# Evaluate\u001B[39;00m\n\u001B[0;32m     14\u001B[0m deeplabcut\u001B[38;5;241m.\u001B[39mevaluate_network(new_config_path, plotting\u001B[38;5;241m=\u001B[39m\u001B[38;5;28;01mTrue\u001B[39;00m)\n",
      "File \u001B[1;32m~\\miniconda3\\envs\\dlc-env\\lib\\site-packages\\deeplabcut\\pose_estimation_tensorflow\\training.py:284\u001B[0m, in \u001B[0;36mtrain_network\u001B[1;34m(config, shuffle, trainingsetindex, max_snapshots_to_keep, displayiters, saveiters, maxiters, allow_growth, gputouse, autotune, keepdeconvweights, modelprefix, superanimal_name, superanimal_transfer_learning)\u001B[0m\n\u001B[0;32m    273\u001B[0m         train(\n\u001B[0;32m    274\u001B[0m             \u001B[38;5;28mstr\u001B[39m(poseconfigfile),\n\u001B[0;32m    275\u001B[0m             displayiters,\n\u001B[1;32m   (...)\u001B[0m\n\u001B[0;32m    280\u001B[0m             allow_growth\u001B[38;5;241m=\u001B[39mallow_growth,\n\u001B[0;32m    281\u001B[0m         )  \u001B[38;5;66;03m# pass on path and file name for pose_cfg.yaml!\u001B[39;00m\n\u001B[0;32m    283\u001B[0m \u001B[38;5;28;01mexcept\u001B[39;00m \u001B[38;5;167;01mBaseException\u001B[39;00m \u001B[38;5;28;01mas\u001B[39;00m e:\n\u001B[1;32m--> 284\u001B[0m     \u001B[38;5;28;01mraise\u001B[39;00m e\n\u001B[0;32m    285\u001B[0m \u001B[38;5;28;01mfinally\u001B[39;00m:\n\u001B[0;32m    286\u001B[0m     os\u001B[38;5;241m.\u001B[39mchdir(\u001B[38;5;28mstr\u001B[39m(start_path))\n",
      "File \u001B[1;32m~\\miniconda3\\envs\\dlc-env\\lib\\site-packages\\deeplabcut\\pose_estimation_tensorflow\\training.py:201\u001B[0m, in \u001B[0;36mtrain_network\u001B[1;34m(config, shuffle, trainingsetindex, max_snapshots_to_keep, displayiters, saveiters, maxiters, allow_growth, gputouse, autotune, keepdeconvweights, modelprefix, superanimal_name, superanimal_transfer_learning)\u001B[0m\n\u001B[0;32m    199\u001B[0m         os\u001B[38;5;241m.\u001B[39menviron[\u001B[38;5;124m\"\u001B[39m\u001B[38;5;124mCUDA_VISIBLE_DEVICES\u001B[39m\u001B[38;5;124m\"\u001B[39m] \u001B[38;5;241m=\u001B[39m \u001B[38;5;28mstr\u001B[39m(gputouse)\n\u001B[0;32m    200\u001B[0m \u001B[38;5;28;01mtry\u001B[39;00m:\n\u001B[1;32m--> 201\u001B[0m     cfg_dlc \u001B[38;5;241m=\u001B[39m \u001B[43mauxiliaryfunctions\u001B[49m\u001B[38;5;241;43m.\u001B[39;49m\u001B[43mread_plainconfig\u001B[49m\u001B[43m(\u001B[49m\u001B[43mposeconfigfile\u001B[49m\u001B[43m)\u001B[49m\n\u001B[0;32m    203\u001B[0m     \u001B[38;5;28;01mif\u001B[39;00m superanimal_name \u001B[38;5;241m!=\u001B[39m \u001B[38;5;124m\"\u001B[39m\u001B[38;5;124m\"\u001B[39m:\n\u001B[0;32m    204\u001B[0m         \u001B[38;5;28;01mfrom\u001B[39;00m \u001B[38;5;21;01mdeeplabcut\u001B[39;00m\u001B[38;5;21;01m.\u001B[39;00m\u001B[38;5;21;01mmodelzoo\u001B[39;00m\u001B[38;5;21;01m.\u001B[39;00m\u001B[38;5;21;01mutils\u001B[39;00m \u001B[38;5;28;01mimport\u001B[39;00m parse_available_supermodels\n",
      "File \u001B[1;32m~\\miniconda3\\envs\\dlc-env\\lib\\site-packages\\deeplabcut\\utils\\auxiliaryfunctions.py:291\u001B[0m, in \u001B[0;36mread_plainconfig\u001B[1;34m(configname)\u001B[0m\n\u001B[0;32m    289\u001B[0m \u001B[38;5;28;01mdef\u001B[39;00m \u001B[38;5;21mread_plainconfig\u001B[39m(configname):\n\u001B[0;32m    290\u001B[0m     \u001B[38;5;28;01mif\u001B[39;00m \u001B[38;5;129;01mnot\u001B[39;00m os\u001B[38;5;241m.\u001B[39mpath\u001B[38;5;241m.\u001B[39mexists(configname):\n\u001B[1;32m--> 291\u001B[0m         \u001B[38;5;28;01mraise\u001B[39;00m \u001B[38;5;167;01mFileNotFoundError\u001B[39;00m(\n\u001B[0;32m    292\u001B[0m             \u001B[38;5;124mf\u001B[39m\u001B[38;5;124m\"\u001B[39m\u001B[38;5;124mConfig \u001B[39m\u001B[38;5;132;01m{\u001B[39;00mconfigname\u001B[38;5;132;01m}\u001B[39;00m\u001B[38;5;124m is not found. Please make sure that the file exists.\u001B[39m\u001B[38;5;124m\"\u001B[39m\n\u001B[0;32m    293\u001B[0m         )\n\u001B[0;32m    294\u001B[0m     \u001B[38;5;28;01mwith\u001B[39;00m \u001B[38;5;28mopen\u001B[39m(configname) \u001B[38;5;28;01mas\u001B[39;00m file:\n\u001B[0;32m    295\u001B[0m         \u001B[38;5;28;01mreturn\u001B[39;00m YAML()\u001B[38;5;241m.\u001B[39mload(file)\n",
      "\u001B[1;31mFileNotFoundError\u001B[0m: Config C:\\Users\\Joey\\PycharmProjects\\Remote3D-Original\\RemotePitchingProject-Joey-2025-01-27\\dlc-models\\iteration-0\\RemotePitchingProjectJan27-trainset95shuffle1\\train\\pose_cfg.yaml is not found. Please make sure that the file exists."
     ]
    }
   ],
   "execution_count": 41
  },
  {
   "metadata": {},
   "cell_type": "code",
   "outputs": [
    {
     "name": "stdout",
     "output_type": "stream",
     "text": [
      "Using config path from file:\n",
      "C:\\Users\\Joey\\PycharmProjects\\Remote3D-Original\\BaseballRemoteProject-ryan_two-2025-01-27\\config.yaml\n",
      "Config file read successfully.\n",
      "Do you want to extract (perhaps additional) frames for video: C:\\Users\\Joey\\PycharmProjects\\Remote3D-Original\\BaseballRemoteProject-ryan_two-2025-01-27\\videos\\ryan_two.mov ?\n",
      "Extracting frames based on kmeans ...\n",
      "Kmeans-quantization based extracting of frames from 0.0  seconds to 6.33  seconds.\n",
      "Extracting and downsampling... 190  frames from the video.\n"
     ]
    },
    {
     "name": "stderr",
     "output_type": "stream",
     "text": [
      "190it [00:03, 52.99it/s]\n"
     ]
    },
    {
     "name": "stdout",
     "output_type": "stream",
     "text": [
      "Kmeans clustering ... (this might take a while)\n",
      "Frames were successfully extracted, for the videos listed in the config.yaml file.\n",
      "\n",
      "You can now label the frames using the function 'label_frames' (Note, you should label frames extracted from diverse videos (and many videos; we do not recommend training on single videos!)).\n"
     ]
    }
   ],
   "execution_count": 35,
   "source": [
    "import deeplabcut\n",
    "import os\n",
    "\n",
    "# Read the config path from the text file that Cell 1 created\n",
    "with open(\"current_config_path.txt\", \"r\") as f:\n",
    "    config_path = f.read().strip()\n",
    "\n",
    "print(f\"Using config path from file:\\n{config_path}\")\n",
    "\n",
    "if not os.path.exists(config_path):\n",
    "    print(f\"ERROR: The config file does not exist:\\n{config_path}\")\n",
    "else:\n",
    "    # Now call extract_frames\n",
    "    deeplabcut.extract_frames(\n",
    "        config_path,\n",
    "        mode='automatic',  # or 'manual'\n",
    "        algo='kmeans',     # or 'uniform'\n",
    "        crop=False\n",
    "    )\n",
    "\n",
    "    # You can also do labeling or other steps here:\n",
    "    # deeplabcut.label_frames(config_path)\n"
   ],
   "id": "7b74f9eae87a934a"
  },
  {
   "metadata": {},
   "cell_type": "code",
   "outputs": [],
   "execution_count": 36,
   "source": "deeplabcut.label_frames(config_path)\n",
   "id": "2d0c35961c8cf7b3"
  },
  {
   "metadata": {},
   "cell_type": "code",
   "outputs": [
    {
     "name": "stdout",
     "output_type": "stream",
     "text": [
      "Project \"C:\\Users\\Joey\\PycharmProjects\\Remote3D-Original\\BaseballRemoteProject-test_one-2025-01-24\" already exists!\n",
      "DLC config path is: C:\\Users\\Joey\\PycharmProjects\\Remote3D-Original\\BaseballRemoteProject-test_one-2025-01-24\\config.yaml\n",
      "Config file read successfully.\n",
      "Do you want to extract (perhaps additional) frames for video: C:\\Users\\Joey\\PycharmProjects\\Remote3D-Original\\BaseballRemoteProject-test_one-2025-01-24\\videos\\test_one.mov ?\n",
      "Extracting frames based on kmeans ...\n",
      "Kmeans-quantization based extracting of frames from 0.0  seconds to 4.77  seconds.\n",
      "Extracting and downsampling... 176  frames from the video.\n"
     ]
    },
    {
     "name": "stderr",
     "output_type": "stream",
     "text": [
      "176it [00:02, 82.49it/s]\n"
     ]
    },
    {
     "name": "stdout",
     "output_type": "stream",
     "text": [
      "Kmeans clustering ... (this might take a while)\n"
     ]
    }
   ],
   "execution_count": null,
   "source": [
    "# # All in one\n",
    "# \n",
    "# import tkinter as tk\n",
    "# from tkinter import filedialog\n",
    "# import os\n",
    "# import datetime\n",
    "# import deeplabcut\n",
    "# \n",
    "# root = tk.Tk()\n",
    "# root.withdraw()\n",
    "# \n",
    "# initial_dir = r'C:\\Users\\Joey\\PycharmProjects\\Remote3D-Original\\data'\n",
    "# \n",
    "# video_path = filedialog.askopenfilename(\n",
    "#     initialdir=initial_dir, \n",
    "#     title='Select a Video File',\n",
    "#     filetypes=[(\"Video Files\", \"*.mov *.mp4 *.avi *.mkv *.flv *.wmv\")]\n",
    "# )\n",
    "# \n",
    "# if video_path:\n",
    "#     video_filename = os.path.basename(video_path)\n",
    "#     base_name = os.path.splitext(video_filename)[0]\n",
    "# \n",
    "#     # Let \"YourName\" be the base_name for demonstration:\n",
    "#     your_name = base_name\n",
    "#     project_name = \"BaseballRemoteProject\"  # or any name you like\n",
    "# \n",
    "#     working_dir = r'C:\\Users\\Joey\\PycharmProjects\\Remote3D-Original'\n",
    "# \n",
    "#     # NOTE: create_new_project might return the config path in your DLC version\n",
    "#     config_path = deeplabcut.create_new_project(\n",
    "#         project_name,\n",
    "#         your_name,\n",
    "#         [video_path],\n",
    "#         working_directory=working_dir,\n",
    "#         copy_videos=True\n",
    "#     )\n",
    "# \n",
    "#     print(\"DLC config path is:\", config_path)\n",
    "# \n",
    "#     # If you want to store the config path in a file (for your second cell):\n",
    "#     with open(\"current_config_path.txt\", \"w\") as f:\n",
    "#         f.write(config_path)\n",
    "# \n",
    "#     # Now do anything else you'd like ...\n",
    "#     # For example, immediate frame extraction:\n",
    "#     deeplabcut.extract_frames(\n",
    "#         config_path,\n",
    "#         mode='automatic',  # 'manual' also possible\n",
    "#         algo='kmeans',     # or 'uniform'\n",
    "#         crop=False\n",
    "#     )\n",
    "# else:\n",
    "#     print(\"No video was selected.\")\n"
   ],
   "id": "f94959cc024ea6e4"
  },
  {
   "metadata": {},
   "cell_type": "code",
   "outputs": [
    {
     "name": "stdout",
     "output_type": "stream",
     "text": [
      "Created \"C:\\Users\\Joey\\PycharmProjects\\Remote3D-Original\\BaseballRemoteProject-YourName-2025-01-24\\videos\"\n",
      "Created \"C:\\Users\\Joey\\PycharmProjects\\Remote3D-Original\\BaseballRemoteProject-YourName-2025-01-24\\labeled-data\"\n",
      "Created \"C:\\Users\\Joey\\PycharmProjects\\Remote3D-Original\\BaseballRemoteProject-YourName-2025-01-24\\training-datasets\"\n",
      "Created \"C:\\Users\\Joey\\PycharmProjects\\Remote3D-Original\\BaseballRemoteProject-YourName-2025-01-24\\dlc-models\"\n",
      "Copying the videos\n",
      "C:\\Users\\Joey\\PycharmProjects\\Remote3D-Original\\BaseballRemoteProject-YourName-2025-01-24\\videos\\demo_vid.mov\n",
      "Generated \"C:\\Users\\Joey\\PycharmProjects\\Remote3D-Original\\BaseballRemoteProject-YourName-2025-01-24\\config.yaml\"\n",
      "\n",
      "A new project with name BaseballRemoteProject-YourName-2025-01-24 is created at C:\\Users\\Joey\\PycharmProjects\\Remote3D-Original and a configurable file (config.yaml) is stored there. Change the parameters in this file to adapt to your project's needs.\n",
      " Once you have changed the configuration file, use the function 'extract_frames' to select frames for labeling.\n",
      ". [OPTIONAL] Use the function 'add_new_videos' to add new videos to your project (at any stage).\n"
     ]
    },
    {
     "data": {
      "text/plain": [
       "'C:\\\\Users\\\\Joey\\\\PycharmProjects\\\\Remote3D-Original\\\\BaseballRemoteProject-YourName-2025-01-24\\\\config.yaml'"
      ]
     },
     "execution_count": 4,
     "metadata": {},
     "output_type": "execute_result"
    }
   ],
   "execution_count": 4,
   "source": [
    "# Old version cell one. Still keep\n",
    "import deeplabcut\n",
    "\n",
    "deeplabcut.create_new_project(\n",
    "    'BaseballRemoteProject',\n",
    "    'YourName',\n",
    "    [r'C:\\Users\\Joey\\PycharmProjects\\Remote3D-original\\data\\demo_vid.mov'],\n",
    "    working_directory=r'C:\\Users\\Joey\\PycharmProjects\\Remote3D-original',\n",
    "    copy_videos=True\n",
    ")\n"
   ],
   "id": "initial_id"
  },
  {
   "metadata": {},
   "cell_type": "code",
   "outputs": [
    {
     "ename": "UnboundLocalError",
     "evalue": "local variable 'cfg' referenced before assignment",
     "output_type": "error",
     "traceback": [
      "\u001B[1;31m---------------------------------------------------------------------------\u001B[0m",
      "\u001B[1;31mUnboundLocalError\u001B[0m                         Traceback (most recent call last)",
      "Cell \u001B[1;32mIn[7], line 5\u001B[0m\n\u001B[0;32m      1\u001B[0m \u001B[38;5;28;01mimport\u001B[39;00m \u001B[38;5;21;01mdeeplabcut\u001B[39;00m\n\u001B[0;32m      3\u001B[0m config_path \u001B[38;5;241m=\u001B[39m \u001B[38;5;124mr\u001B[39m\u001B[38;5;124m'\u001B[39m\u001B[38;5;124mC:\u001B[39m\u001B[38;5;124m\\\u001B[39m\u001B[38;5;124mUsers\u001B[39m\u001B[38;5;124m\\\u001B[39m\u001B[38;5;124mJoey\u001B[39m\u001B[38;5;124m\\\u001B[39m\u001B[38;5;124mPycharmProjects\u001B[39m\u001B[38;5;124m\\\u001B[39m\u001B[38;5;124mRemote3D-Original\u001B[39m\u001B[38;5;124m\\\u001B[39m\u001B[38;5;124mBaseballRemoteProject-YourName-2025-01-24\u001B[39m\u001B[38;5;124m'\u001B[39m\n\u001B[1;32m----> 5\u001B[0m \u001B[43mdeeplabcut\u001B[49m\u001B[38;5;241;43m.\u001B[39;49m\u001B[43mextract_frames\u001B[49m\u001B[43m(\u001B[49m\n\u001B[0;32m      6\u001B[0m \u001B[43m    \u001B[49m\u001B[43mconfig_path\u001B[49m\u001B[43m,\u001B[49m\n\u001B[0;32m      7\u001B[0m \u001B[43m    \u001B[49m\u001B[43mmode\u001B[49m\u001B[38;5;241;43m=\u001B[39;49m\u001B[38;5;124;43m'\u001B[39;49m\u001B[38;5;124;43mautomatic\u001B[39;49m\u001B[38;5;124;43m'\u001B[39;49m\u001B[43m,\u001B[49m\u001B[43m    \u001B[49m\u001B[38;5;66;43;03m# or 'manual'\u001B[39;49;00m\n\u001B[0;32m      8\u001B[0m \u001B[43m    \u001B[49m\u001B[43malgo\u001B[49m\u001B[38;5;241;43m=\u001B[39;49m\u001B[38;5;124;43m'\u001B[39;49m\u001B[38;5;124;43mkmeans\u001B[39;49m\u001B[38;5;124;43m'\u001B[39;49m\u001B[43m,\u001B[49m\u001B[43m       \u001B[49m\u001B[38;5;66;43;03m# or 'uniform'\u001B[39;49;00m\n\u001B[0;32m      9\u001B[0m \u001B[43m    \u001B[49m\u001B[43mcrop\u001B[49m\u001B[38;5;241;43m=\u001B[39;49m\u001B[38;5;28;43;01mFalse\u001B[39;49;00m\n\u001B[0;32m     10\u001B[0m \u001B[43m)\u001B[49m\n",
      "File \u001B[1;32m~\\miniconda3\\envs\\dlc-env\\lib\\site-packages\\deeplabcut\\generate_training_dataset\\frame_extraction.py:266\u001B[0m, in \u001B[0;36mextract_frames\u001B[1;34m(config, mode, algo, crop, userfeedback, cluster_step, cluster_resizewidth, cluster_color, opencv, slider_width, config3d, extracted_cam, videos_list)\u001B[0m\n\u001B[0;32m    263\u001B[0m \u001B[38;5;28;01mfrom\u001B[39;00m \u001B[38;5;21;01mdeeplabcut\u001B[39;00m\u001B[38;5;21;01m.\u001B[39;00m\u001B[38;5;21;01mutils\u001B[39;00m \u001B[38;5;28;01mimport\u001B[39;00m auxiliaryfunctions\n\u001B[0;32m    265\u001B[0m config_file \u001B[38;5;241m=\u001B[39m Path(config)\u001B[38;5;241m.\u001B[39mresolve()\n\u001B[1;32m--> 266\u001B[0m cfg \u001B[38;5;241m=\u001B[39m \u001B[43mauxiliaryfunctions\u001B[49m\u001B[38;5;241;43m.\u001B[39;49m\u001B[43mread_config\u001B[49m\u001B[43m(\u001B[49m\u001B[43mconfig_file\u001B[49m\u001B[43m)\u001B[49m\n\u001B[0;32m    267\u001B[0m \u001B[38;5;28mprint\u001B[39m(\u001B[38;5;124m\"\u001B[39m\u001B[38;5;124mConfig file read successfully.\u001B[39m\u001B[38;5;124m\"\u001B[39m)\n\u001B[0;32m    269\u001B[0m \u001B[38;5;28;01mif\u001B[39;00m videos_list \u001B[38;5;129;01mis\u001B[39;00m \u001B[38;5;28;01mNone\u001B[39;00m:\n",
      "File \u001B[1;32m~\\miniconda3\\envs\\dlc-env\\lib\\site-packages\\deeplabcut\\utils\\auxiliaryfunctions.py:210\u001B[0m, in \u001B[0;36mread_config\u001B[1;34m(configname)\u001B[0m\n\u001B[0;32m    206\u001B[0m \u001B[38;5;28;01melse\u001B[39;00m:\n\u001B[0;32m    207\u001B[0m     \u001B[38;5;28;01mraise\u001B[39;00m \u001B[38;5;167;01mFileNotFoundError\u001B[39;00m(\n\u001B[0;32m    208\u001B[0m         \u001B[38;5;124m\"\u001B[39m\u001B[38;5;124mConfig file is not found. Please make sure that the file exists and/or that you passed the path of the config file correctly!\u001B[39m\u001B[38;5;124m\"\u001B[39m\n\u001B[0;32m    209\u001B[0m     )\n\u001B[1;32m--> 210\u001B[0m \u001B[38;5;28;01mreturn\u001B[39;00m \u001B[43mcfg\u001B[49m\n",
      "\u001B[1;31mUnboundLocalError\u001B[0m: local variable 'cfg' referenced before assignment"
     ]
    }
   ],
   "execution_count": 7,
   "source": [
    "# Old version cell 2, still keep\n",
    "import deeplabcut\n",
    "\n",
    "config_path = r'C:\\Users\\Joey\\PycharmProjects\\Remote3D-Original\\BaseballRemoteProject-YourName-2025-01-24'\n",
    "\n",
    "deeplabcut.extract_frames(\n",
    "    config_path,\n",
    "    mode='automatic',    # or 'manual'\n",
    "    algo='kmeans',       # or 'uniform'\n",
    "    crop=False\n",
    ")\n"
   ],
   "id": "ab10693d7f177f07"
  },
  {
   "metadata": {},
   "cell_type": "code",
   "outputs": [],
   "execution_count": null,
   "source": "",
   "id": "6eda3f1350484c24"
  }
 ],
 "metadata": {
  "kernelspec": {
   "display_name": "Python 3",
   "language": "python",
   "name": "python3"
  },
  "language_info": {
   "codemirror_mode": {
    "name": "ipython",
    "version": 2
   },
   "file_extension": ".py",
   "mimetype": "text/x-python",
   "name": "python",
   "nbconvert_exporter": "python",
   "pygments_lexer": "ipython2",
   "version": "2.7.6"
  }
 },
 "nbformat": 4,
 "nbformat_minor": 5
}
