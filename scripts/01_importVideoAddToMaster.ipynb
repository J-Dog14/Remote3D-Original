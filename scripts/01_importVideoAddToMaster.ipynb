{
 "cells": [
  {
   "metadata": {
    "ExecuteTime": {
     "end_time": "2025-01-28T18:26:30.965517Z",
     "start_time": "2025-01-28T18:26:26.043023Z"
    }
   },
   "cell_type": "code",
   "source": [
    "# Import video and add to master project\n",
    "\n",
    "import tkinter as tk\n",
    "from tkinter import filedialog\n",
    "import os\n",
    "import deeplabcut\n",
    "import ruamel.yaml\n",
    "\n",
    "# 1) Path to your existing master project's config.yaml\n",
    "master_config_path = r\"C:\\Users\\Joey\\PycharmProjects\\Remote3D-Original\\RemotePitchingProject\\config.yaml\"\n",
    "\n",
    "# 2) Hide the main tkinter window\n",
    "root = tk.Tk()\n",
    "root.withdraw()\n",
    "\n",
    "# Optional: set an initial directory for browsing videos\n",
    "initial_dir = r'C:\\Users\\Joey\\PycharmProjects\\Remote3D-Original\\data'\n",
    "\n",
    "# 3) Prompt user to pick a video\n",
    "video_path = filedialog.askopenfilename(\n",
    "    initialdir=initial_dir,\n",
    "    title='Select a Video File',\n",
    "    filetypes=[(\"Video Files\", \"*.mov *.mp4 *.avi *.mkv *.flv *.wmv\")]\n",
    ")\n",
    "\n",
    "if video_path:\n",
    "    # Grab just the filename and base name\n",
    "    video_filename = os.path.basename(video_path)\n",
    "    base_name = os.path.splitext(video_filename)[0]\n",
    "\n",
    "    print(f\"Selected video: {video_path}\")\n",
    "    print(f\"Base name: {base_name}\")\n",
    "\n",
    "    # 4) Add this video to the existing master project\n",
    "    #    copy_videos=True will place the selected video into the master project's 'videos' folder\n",
    "    deeplabcut.add_new_videos(\n",
    "        master_config_path,\n",
    "        [video_path],\n",
    "        copy_videos=True\n",
    "    )\n",
    "\n",
    "    print(f\"Added {video_filename} to the master project at:\\n{master_config_path}\")\n",
    "\n",
    "    # --- OPTIONAL: update_config to ensure correct bodyparts/skeleton, etc. ---\n",
    "    def update_config(config_path, new_entries_dict):\n",
    "        \"\"\"Update certain fields (bodyparts, skeleton, etc.) in the config.yaml.\"\"\"\n",
    "        yaml_loader = ruamel.yaml.YAML(typ='safe', pure=True)\n",
    "        with open(config_path, 'r') as f:\n",
    "            cfg = yaml_loader.load(f)\n",
    "\n",
    "        # e.g. re-apply your standard bodyparts & skeleton if needed\n",
    "        if \"bodyparts\" in new_entries_dict:\n",
    "            cfg[\"bodyparts\"] = new_entries_dict[\"bodyparts\"]\n",
    "        if \"skeleton\" in new_entries_dict:\n",
    "            cfg[\"skeleton\"] = new_entries_dict[\"skeleton\"]\n",
    "\n",
    "        # Write updated config back to disk\n",
    "        with open(config_path, 'w') as f:\n",
    "            yaml_loader.dump(cfg, f)\n",
    "\n",
    "    # Example standard bodyparts/skeleton (only needed if you want to ensure the config remains identical)\n",
    "    my_bodyparts = [\n",
    "        \"right_shoulder\", \"right_elbow\", \"right_wrist\",\n",
    "        \"left_shoulder\", \"left_elbow\", \"left_wrist\",\n",
    "        \"right_hip\", \"left_hip\", \"left_knee\", \"right_knee\",\n",
    "        \"left_ankle\", \"right_ankle\"\n",
    "    ]\n",
    "\n",
    "    my_skeleton = [\n",
    "        [\"right_shoulder\", \"right_elbow\"],\n",
    "        [\"right_elbow\",    \"right_wrist\"],\n",
    "        [\"left_shoulder\",  \"left_elbow\"],\n",
    "        [\"left_elbow\",     \"left_wrist\"],\n",
    "        [\"left_shoulder\",  \"right_shoulder\"],\n",
    "        [\"left_shoulder\",  \"left_hip\"],\n",
    "        [\"right_shoulder\", \"right_hip\"],\n",
    "        [\"left_hip\",       \"right_hip\"],\n",
    "        [\"left_hip\",       \"left_knee\"],\n",
    "        [\"left_knee\",      \"left_ankle\"],\n",
    "        [\"right_hip\",      \"right_knee\"],\n",
    "        [\"right_knee\",     \"right_ankle\"]\n",
    "    ]\n",
    "\n",
    "    # If you really need to ensure the config is set to these every time, uncomment:\n",
    "    # update_config(master_config_path, {\"bodyparts\": my_bodyparts, \"skeleton\": my_skeleton})\n",
    "\n",
    "    # 5) (Optional) save the master config path to a file for other notebook cells\n",
    "    with open(\"current_config_path.txt\", \"w\") as f:\n",
    "        f.write(master_config_path)\n",
    "\n",
    "    print(\"Config path saved to 'current_config_path.txt'. You can now run additional steps.\")\n",
    "\n",
    "else:\n",
    "    print(\"No video was selected.\")\n"
   ],
   "id": "37241883265878b8",
   "outputs": [
    {
     "name": "stdout",
     "output_type": "stream",
     "text": [
      "No video was selected.\n"
     ]
    }
   ],
   "execution_count": 5
  },
  {
   "metadata": {},
   "cell_type": "code",
   "outputs": [],
   "execution_count": null,
   "source": [
    "# Extract frames\n",
    "\n",
    "# E.g. read config path\n",
    "with open(\"current_config_path.txt\", \"r\") as f:\n",
    "    master_config_path = f.read().strip()\n",
    "\n",
    "deeplabcut.extract_frames(\n",
    "    master_config_path,\n",
    "    mode='automatic',  # or 'manual'\n",
    "    algo='kmeans',\n",
    "    crop=False\n",
    ")\n"
   ],
   "id": "initial_id"
  },
  {
   "metadata": {
    "ExecuteTime": {
     "end_time": "2025-01-28T20:10:02.674833Z",
     "start_time": "2025-01-28T20:10:02.670263Z"
    }
   },
   "cell_type": "code",
   "source": "master_config_path = r\"C:\\Users\\Joey\\PycharmProjects\\Remote3D-Original\\RemotePitchingProject-Joey-2025-01-27\\config.yaml\"",
   "id": "55e4e94aa9e2395e",
   "outputs": [],
   "execution_count": 3
  },
  {
   "metadata": {
    "ExecuteTime": {
     "end_time": "2025-01-27T23:27:02.345390Z",
     "start_time": "2025-01-27T23:26:45.246570Z"
    }
   },
   "cell_type": "code",
   "source": [
    "# Label Frames\n",
    "import deeplabcut\n",
    "\n",
    "deeplabcut.label_frames(master_config_path)\n"
   ],
   "id": "135e645e843fc049",
   "outputs": [
    {
     "name": "stdout",
     "output_type": "stream",
     "text": [
      "Loading DLC 2.3.9...\n"
     ]
    },
    {
     "name": "stderr",
     "output_type": "stream",
     "text": [
      "WARNING: DirectWrite: CreateFontFaceFromHDC() failed (Indicates an error in an input file such as a font file.) for QFontDef(Family=\"MS Sans Serif\", pointsize=12, pixelsize=16, styleHint=5, weight=400, stretch=100, hintingPreference=0) LOGFONT(\"MS Sans Serif\", lfWidth=0, lfHeight=-16) dpi=120\n"
     ]
    }
   ],
   "execution_count": 4
  },
  {
   "metadata": {},
   "cell_type": "markdown",
   "source": "Train the model with the cell below.",
   "id": "387bfee6164a03cd"
  },
  {
   "metadata": {
    "ExecuteTime": {
     "end_time": "2025-01-28T20:21:06.705534Z",
     "start_time": "2025-01-28T20:21:05.981839Z"
    }
   },
   "cell_type": "code",
   "source": [
    "# Train the model\n",
    "import deeplabcut\n",
    "# Create the training dataset\n",
    "deeplabcut.create_training_dataset(master_config_path)\n",
    "\n",
    "# Train the model\n",
    "deeplabcut.train_network(master_config_path)\n",
    "\n",
    "# Evaluate\n",
    "deeplabcut.evaluate_network(master_config_path)\n"
   ],
   "id": "7ff6fea566c60edb",
   "outputs": [
    {
     "name": "stdout",
     "output_type": "stream",
     "text": [
      "C:\\Users\\q\\PycharmProjects\\Remote3D-Original\\RemotePitchingProject-Joey-2025-01-27\\labeled-data\\ryan_two\\CollectedData_Joey.h5 labeled by a different scorer. This data will not be utilized in training dataset creation. If you need to merge datasets across scorers, see https://github.com/DeepLabCut/DeepLabCut/wiki/Using-labeled-data-in-DeepLabCut-that-was-annotated-elsewhere-(or-merge-across-labelers)\n",
      "C:\\Users\\q\\PycharmProjects\\Remote3D-Original\\RemotePitchingProject-Joey-2025-01-27\\labeled-data\\ryan_one\\CollectedData_Joey.h5 labeled by a different scorer. This data will not be utilized in training dataset creation. If you need to merge datasets across scorers, see https://github.com/DeepLabCut/DeepLabCut/wiki/Using-labeled-data-in-DeepLabCut-that-was-annotated-elsewhere-(or-merge-across-labelers)\n",
      "C:\\Users\\q\\PycharmProjects\\Remote3D-Original\\RemotePitchingProject-Joey-2025-01-27\\labeled-data\\ryan_three\\CollectedData_Joey.h5 labeled by a different scorer. This data will not be utilized in training dataset creation. If you need to merge datasets across scorers, see https://github.com/DeepLabCut/DeepLabCut/wiki/Using-labeled-data-in-DeepLabCut-that-was-annotated-elsewhere-(or-merge-across-labelers)\n",
      "C:\\Users\\q\\PycharmProjects\\Remote3D-Original\\RemotePitchingProject-Joey-2025-01-27\\labeled-data\\ryan_four\\CollectedData_Joey.h5 labeled by a different scorer. This data will not be utilized in training dataset creation. If you need to merge datasets across scorers, see https://github.com/DeepLabCut/DeepLabCut/wiki/Using-labeled-data-in-DeepLabCut-that-was-annotated-elsewhere-(or-merge-across-labelers)\n",
      "C:\\Users\\q\\PycharmProjects\\Remote3D-Original\\RemotePitchingProject-Joey-2025-01-27\\labeled-data\\ryan_five\\CollectedData_Joey.h5 labeled by a different scorer. This data will not be utilized in training dataset creation. If you need to merge datasets across scorers, see https://github.com/DeepLabCut/DeepLabCut/wiki/Using-labeled-data-in-DeepLabCut-that-was-annotated-elsewhere-(or-merge-across-labelers)\n",
      "C:\\Users\\q\\PycharmProjects\\Remote3D-Original\\RemotePitchingProject-Joey-2025-01-27\\labeled-data\\ryan_six\\CollectedData_Joey.h5 labeled by a different scorer. This data will not be utilized in training dataset creation. If you need to merge datasets across scorers, see https://github.com/DeepLabCut/DeepLabCut/wiki/Using-labeled-data-in-DeepLabCut-that-was-annotated-elsewhere-(or-merge-across-labelers)\n",
      "C:\\Users\\q\\PycharmProjects\\Remote3D-Original\\RemotePitchingProject-Joey-2025-01-27\\labeled-data\\ryan_seven\\CollectedData_Joey.h5 labeled by a different scorer. This data will not be utilized in training dataset creation. If you need to merge datasets across scorers, see https://github.com/DeepLabCut/DeepLabCut/wiki/Using-labeled-data-in-DeepLabCut-that-was-annotated-elsewhere-(or-merge-across-labelers)\n",
      "C:\\Users\\q\\PycharmProjects\\Remote3D-Original\\RemotePitchingProject-Joey-2025-01-27\\labeled-data\\ryan_eight\\CollectedData_Joey.h5 labeled by a different scorer. This data will not be utilized in training dataset creation. If you need to merge datasets across scorers, see https://github.com/DeepLabCut/DeepLabCut/wiki/Using-labeled-data-in-DeepLabCut-that-was-annotated-elsewhere-(or-merge-across-labelers)\n",
      "C:\\Users\\q\\PycharmProjects\\Remote3D-Original\\RemotePitchingProject-Joey-2025-01-27\\labeled-data\\ryan_nine\\CollectedData_Joey.h5 labeled by a different scorer. This data will not be utilized in training dataset creation. If you need to merge datasets across scorers, see https://github.com/DeepLabCut/DeepLabCut/wiki/Using-labeled-data-in-DeepLabCut-that-was-annotated-elsewhere-(or-merge-across-labelers)\n",
      "C:\\Users\\q\\PycharmProjects\\Remote3D-Original\\RemotePitchingProject-Joey-2025-01-27\\labeled-data\\ryan_ten\\CollectedData_Joey.h5 labeled by a different scorer. This data will not be utilized in training dataset creation. If you need to merge datasets across scorers, see https://github.com/DeepLabCut/DeepLabCut/wiki/Using-labeled-data-in-DeepLabCut-that-was-annotated-elsewhere-(or-merge-across-labelers)\n",
      "C:\\Users\\q\\PycharmProjects\\Remote3D-Original\\RemotePitchingProject-Joey-2025-01-27\\labeled-data\\ryan_eleven\\CollectedData_Joey.h5 labeled by a different scorer. This data will not be utilized in training dataset creation. If you need to merge datasets across scorers, see https://github.com/DeepLabCut/DeepLabCut/wiki/Using-labeled-data-in-DeepLabCut-that-was-annotated-elsewhere-(or-merge-across-labelers)\n",
      "C:\\Users\\q\\PycharmProjects\\Remote3D-Original\\RemotePitchingProject-Joey-2025-01-27\\labeled-data\\ryan_twelve\\CollectedData_Joey.h5 labeled by a different scorer. This data will not be utilized in training dataset creation. If you need to merge datasets across scorers, see https://github.com/DeepLabCut/DeepLabCut/wiki/Using-labeled-data-in-DeepLabCut-that-was-annotated-elsewhere-(or-merge-across-labelers)\n",
      "Annotation data was not found by splitting video paths (from config['video_sets']). An alternative route is taken...\n",
      "The following folders were found: ['C:\\\\Users\\\\q\\\\PycharmProjects\\\\Remote3D-Original\\\\RemotePitchingProject-Joey-2025-01-27\\\\labeled-data\\\\ryan_eight', 'C:\\\\Users\\\\q\\\\PycharmProjects\\\\Remote3D-Original\\\\RemotePitchingProject-Joey-2025-01-27\\\\labeled-data\\\\ryan_eleven', 'C:\\\\Users\\\\q\\\\PycharmProjects\\\\Remote3D-Original\\\\RemotePitchingProject-Joey-2025-01-27\\\\labeled-data\\\\ryan_five', 'C:\\\\Users\\\\q\\\\PycharmProjects\\\\Remote3D-Original\\\\RemotePitchingProject-Joey-2025-01-27\\\\labeled-data\\\\ryan_four', 'C:\\\\Users\\\\q\\\\PycharmProjects\\\\Remote3D-Original\\\\RemotePitchingProject-Joey-2025-01-27\\\\labeled-data\\\\ryan_nine', 'C:\\\\Users\\\\q\\\\PycharmProjects\\\\Remote3D-Original\\\\RemotePitchingProject-Joey-2025-01-27\\\\labeled-data\\\\ryan_one', 'C:\\\\Users\\\\q\\\\PycharmProjects\\\\Remote3D-Original\\\\RemotePitchingProject-Joey-2025-01-27\\\\labeled-data\\\\ryan_seven', 'C:\\\\Users\\\\q\\\\PycharmProjects\\\\Remote3D-Original\\\\RemotePitchingProject-Joey-2025-01-27\\\\labeled-data\\\\ryan_six', 'C:\\\\Users\\\\q\\\\PycharmProjects\\\\Remote3D-Original\\\\RemotePitchingProject-Joey-2025-01-27\\\\labeled-data\\\\ryan_ten', 'C:\\\\Users\\\\q\\\\PycharmProjects\\\\Remote3D-Original\\\\RemotePitchingProject-Joey-2025-01-27\\\\labeled-data\\\\ryan_three', 'C:\\\\Users\\\\q\\\\PycharmProjects\\\\Remote3D-Original\\\\RemotePitchingProject-Joey-2025-01-27\\\\labeled-data\\\\ryan_twelve', 'C:\\\\Users\\\\q\\\\PycharmProjects\\\\Remote3D-Original\\\\RemotePitchingProject-Joey-2025-01-27\\\\labeled-data\\\\ryan_two', 'C:\\\\Users\\\\q\\\\PycharmProjects\\\\Remote3D-Original\\\\RemotePitchingProject-Joey-2025-01-27\\\\labeled-data\\\\test_two']\n"
     ]
    },
    {
     "ename": "KeyError",
     "evalue": "'Joey'",
     "output_type": "error",
     "traceback": [
      "\u001B[1;31m---------------------------------------------------------------------------\u001B[0m",
      "\u001B[1;31mKeyError\u001B[0m                                  Traceback (most recent call last)",
      "File \u001B[1;32m~\\miniconda3\\envs\\dlc-env\\lib\\site-packages\\pandas\\core\\indexes\\base.py:3653\u001B[0m, in \u001B[0;36mIndex.get_loc\u001B[1;34m(self, key)\u001B[0m\n\u001B[0;32m   3652\u001B[0m \u001B[38;5;28;01mtry\u001B[39;00m:\n\u001B[1;32m-> 3653\u001B[0m     \u001B[38;5;28;01mreturn\u001B[39;00m \u001B[38;5;28;43mself\u001B[39;49m\u001B[38;5;241;43m.\u001B[39;49m\u001B[43m_engine\u001B[49m\u001B[38;5;241;43m.\u001B[39;49m\u001B[43mget_loc\u001B[49m\u001B[43m(\u001B[49m\u001B[43mcasted_key\u001B[49m\u001B[43m)\u001B[49m\n\u001B[0;32m   3654\u001B[0m \u001B[38;5;28;01mexcept\u001B[39;00m \u001B[38;5;167;01mKeyError\u001B[39;00m \u001B[38;5;28;01mas\u001B[39;00m err:\n",
      "File \u001B[1;32m~\\miniconda3\\envs\\dlc-env\\lib\\site-packages\\pandas\\_libs\\index.pyx:147\u001B[0m, in \u001B[0;36mpandas._libs.index.IndexEngine.get_loc\u001B[1;34m()\u001B[0m\n",
      "File \u001B[1;32m~\\miniconda3\\envs\\dlc-env\\lib\\site-packages\\pandas\\_libs\\index.pyx:176\u001B[0m, in \u001B[0;36mpandas._libs.index.IndexEngine.get_loc\u001B[1;34m()\u001B[0m\n",
      "File \u001B[1;32mpandas\\_libs\\hashtable_class_helper.pxi:7080\u001B[0m, in \u001B[0;36mpandas._libs.hashtable.PyObjectHashTable.get_item\u001B[1;34m()\u001B[0m\n",
      "File \u001B[1;32mpandas\\_libs\\hashtable_class_helper.pxi:7088\u001B[0m, in \u001B[0;36mpandas._libs.hashtable.PyObjectHashTable.get_item\u001B[1;34m()\u001B[0m\n",
      "\u001B[1;31mKeyError\u001B[0m: 'Joey'",
      "\nThe above exception was the direct cause of the following exception:\n",
      "\u001B[1;31mKeyError\u001B[0m                                  Traceback (most recent call last)",
      "Cell \u001B[1;32mIn[7], line 4\u001B[0m\n\u001B[0;32m      2\u001B[0m \u001B[38;5;28;01mimport\u001B[39;00m \u001B[38;5;21;01mdeeplabcut\u001B[39;00m\n\u001B[0;32m      3\u001B[0m \u001B[38;5;66;03m# Create the training dataset\u001B[39;00m\n\u001B[1;32m----> 4\u001B[0m \u001B[43mdeeplabcut\u001B[49m\u001B[38;5;241;43m.\u001B[39;49m\u001B[43mcreate_training_dataset\u001B[49m\u001B[43m(\u001B[49m\u001B[43mmaster_config_path\u001B[49m\u001B[43m)\u001B[49m\n\u001B[0;32m      6\u001B[0m \u001B[38;5;66;03m# Train the model\u001B[39;00m\n\u001B[0;32m      7\u001B[0m deeplabcut\u001B[38;5;241m.\u001B[39mtrain_network(master_config_path)\n",
      "File \u001B[1;32m~\\miniconda3\\envs\\dlc-env\\lib\\site-packages\\deeplabcut\\generate_training_dataset\\trainingsetmanipulation.py:899\u001B[0m, in \u001B[0;36mcreate_training_dataset\u001B[1;34m(config, num_shuffles, Shuffles, windows2linux, userfeedback, trainIndices, testIndices, net_type, augmenter_type, posecfg_template, superanimal_name)\u001B[0m\n\u001B[0;32m    897\u001B[0m \u001B[38;5;28;01mif\u001B[39;00m Data \u001B[38;5;129;01mis\u001B[39;00m \u001B[38;5;28;01mNone\u001B[39;00m:\n\u001B[0;32m    898\u001B[0m     \u001B[38;5;28;01mreturn\u001B[39;00m\n\u001B[1;32m--> 899\u001B[0m Data \u001B[38;5;241m=\u001B[39m \u001B[43mData\u001B[49m\u001B[43m[\u001B[49m\u001B[43mscorer\u001B[49m\u001B[43m]\u001B[49m  \u001B[38;5;66;03m# extract labeled data\u001B[39;00m\n\u001B[0;32m    901\u001B[0m \u001B[38;5;66;03m# loading & linking pretrained models\u001B[39;00m\n\u001B[0;32m    902\u001B[0m \u001B[38;5;28;01mif\u001B[39;00m net_type \u001B[38;5;129;01mis\u001B[39;00m \u001B[38;5;28;01mNone\u001B[39;00m:  \u001B[38;5;66;03m# loading & linking pretrained models\u001B[39;00m\n",
      "File \u001B[1;32m~\\miniconda3\\envs\\dlc-env\\lib\\site-packages\\pandas\\core\\frame.py:3760\u001B[0m, in \u001B[0;36mDataFrame.__getitem__\u001B[1;34m(self, key)\u001B[0m\n\u001B[0;32m   3758\u001B[0m \u001B[38;5;28;01mif\u001B[39;00m is_single_key:\n\u001B[0;32m   3759\u001B[0m     \u001B[38;5;28;01mif\u001B[39;00m \u001B[38;5;28mself\u001B[39m\u001B[38;5;241m.\u001B[39mcolumns\u001B[38;5;241m.\u001B[39mnlevels \u001B[38;5;241m>\u001B[39m \u001B[38;5;241m1\u001B[39m:\n\u001B[1;32m-> 3760\u001B[0m         \u001B[38;5;28;01mreturn\u001B[39;00m \u001B[38;5;28;43mself\u001B[39;49m\u001B[38;5;241;43m.\u001B[39;49m\u001B[43m_getitem_multilevel\u001B[49m\u001B[43m(\u001B[49m\u001B[43mkey\u001B[49m\u001B[43m)\u001B[49m\n\u001B[0;32m   3761\u001B[0m     indexer \u001B[38;5;241m=\u001B[39m \u001B[38;5;28mself\u001B[39m\u001B[38;5;241m.\u001B[39mcolumns\u001B[38;5;241m.\u001B[39mget_loc(key)\n\u001B[0;32m   3762\u001B[0m     \u001B[38;5;28;01mif\u001B[39;00m is_integer(indexer):\n",
      "File \u001B[1;32m~\\miniconda3\\envs\\dlc-env\\lib\\site-packages\\pandas\\core\\frame.py:3815\u001B[0m, in \u001B[0;36mDataFrame._getitem_multilevel\u001B[1;34m(self, key)\u001B[0m\n\u001B[0;32m   3813\u001B[0m \u001B[38;5;28;01mdef\u001B[39;00m \u001B[38;5;21m_getitem_multilevel\u001B[39m(\u001B[38;5;28mself\u001B[39m, key):\n\u001B[0;32m   3814\u001B[0m     \u001B[38;5;66;03m# self.columns is a MultiIndex\u001B[39;00m\n\u001B[1;32m-> 3815\u001B[0m     loc \u001B[38;5;241m=\u001B[39m \u001B[38;5;28;43mself\u001B[39;49m\u001B[38;5;241;43m.\u001B[39;49m\u001B[43mcolumns\u001B[49m\u001B[38;5;241;43m.\u001B[39;49m\u001B[43mget_loc\u001B[49m\u001B[43m(\u001B[49m\u001B[43mkey\u001B[49m\u001B[43m)\u001B[49m\n\u001B[0;32m   3816\u001B[0m     \u001B[38;5;28;01mif\u001B[39;00m \u001B[38;5;28misinstance\u001B[39m(loc, (\u001B[38;5;28mslice\u001B[39m, np\u001B[38;5;241m.\u001B[39mndarray)):\n\u001B[0;32m   3817\u001B[0m         new_columns \u001B[38;5;241m=\u001B[39m \u001B[38;5;28mself\u001B[39m\u001B[38;5;241m.\u001B[39mcolumns[loc]\n",
      "File \u001B[1;32m~\\miniconda3\\envs\\dlc-env\\lib\\site-packages\\pandas\\core\\indexes\\multi.py:2812\u001B[0m, in \u001B[0;36mMultiIndex.get_loc\u001B[1;34m(self, key)\u001B[0m\n\u001B[0;32m   2809\u001B[0m     \u001B[38;5;28;01mreturn\u001B[39;00m mask\n\u001B[0;32m   2811\u001B[0m \u001B[38;5;28;01mif\u001B[39;00m \u001B[38;5;129;01mnot\u001B[39;00m \u001B[38;5;28misinstance\u001B[39m(key, \u001B[38;5;28mtuple\u001B[39m):\n\u001B[1;32m-> 2812\u001B[0m     loc \u001B[38;5;241m=\u001B[39m \u001B[38;5;28;43mself\u001B[39;49m\u001B[38;5;241;43m.\u001B[39;49m\u001B[43m_get_level_indexer\u001B[49m\u001B[43m(\u001B[49m\u001B[43mkey\u001B[49m\u001B[43m,\u001B[49m\u001B[43m \u001B[49m\u001B[43mlevel\u001B[49m\u001B[38;5;241;43m=\u001B[39;49m\u001B[38;5;241;43m0\u001B[39;49m\u001B[43m)\u001B[49m\n\u001B[0;32m   2813\u001B[0m     \u001B[38;5;28;01mreturn\u001B[39;00m _maybe_to_slice(loc)\n\u001B[0;32m   2815\u001B[0m keylen \u001B[38;5;241m=\u001B[39m \u001B[38;5;28mlen\u001B[39m(key)\n",
      "File \u001B[1;32m~\\miniconda3\\envs\\dlc-env\\lib\\site-packages\\pandas\\core\\indexes\\multi.py:3160\u001B[0m, in \u001B[0;36mMultiIndex._get_level_indexer\u001B[1;34m(self, key, level, indexer)\u001B[0m\n\u001B[0;32m   3157\u001B[0m         \u001B[38;5;28;01mreturn\u001B[39;00m \u001B[38;5;28mslice\u001B[39m(i, j, step)\n\u001B[0;32m   3159\u001B[0m \u001B[38;5;28;01melse\u001B[39;00m:\n\u001B[1;32m-> 3160\u001B[0m     idx \u001B[38;5;241m=\u001B[39m \u001B[38;5;28;43mself\u001B[39;49m\u001B[38;5;241;43m.\u001B[39;49m\u001B[43m_get_loc_single_level_index\u001B[49m\u001B[43m(\u001B[49m\u001B[43mlevel_index\u001B[49m\u001B[43m,\u001B[49m\u001B[43m \u001B[49m\u001B[43mkey\u001B[49m\u001B[43m)\u001B[49m\n\u001B[0;32m   3162\u001B[0m     \u001B[38;5;28;01mif\u001B[39;00m level \u001B[38;5;241m>\u001B[39m \u001B[38;5;241m0\u001B[39m \u001B[38;5;129;01mor\u001B[39;00m \u001B[38;5;28mself\u001B[39m\u001B[38;5;241m.\u001B[39m_lexsort_depth \u001B[38;5;241m==\u001B[39m \u001B[38;5;241m0\u001B[39m:\n\u001B[0;32m   3163\u001B[0m         \u001B[38;5;66;03m# Desired level is not sorted\u001B[39;00m\n\u001B[0;32m   3164\u001B[0m         \u001B[38;5;28;01mif\u001B[39;00m \u001B[38;5;28misinstance\u001B[39m(idx, \u001B[38;5;28mslice\u001B[39m):\n\u001B[0;32m   3165\u001B[0m             \u001B[38;5;66;03m# test_get_loc_partial_timestamp_multiindex\u001B[39;00m\n",
      "File \u001B[1;32m~\\miniconda3\\envs\\dlc-env\\lib\\site-packages\\pandas\\core\\indexes\\multi.py:2752\u001B[0m, in \u001B[0;36mMultiIndex._get_loc_single_level_index\u001B[1;34m(self, level_index, key)\u001B[0m\n\u001B[0;32m   2750\u001B[0m     \u001B[38;5;28;01mreturn\u001B[39;00m \u001B[38;5;241m-\u001B[39m\u001B[38;5;241m1\u001B[39m\n\u001B[0;32m   2751\u001B[0m \u001B[38;5;28;01melse\u001B[39;00m:\n\u001B[1;32m-> 2752\u001B[0m     \u001B[38;5;28;01mreturn\u001B[39;00m \u001B[43mlevel_index\u001B[49m\u001B[38;5;241;43m.\u001B[39;49m\u001B[43mget_loc\u001B[49m\u001B[43m(\u001B[49m\u001B[43mkey\u001B[49m\u001B[43m)\u001B[49m\n",
      "File \u001B[1;32m~\\miniconda3\\envs\\dlc-env\\lib\\site-packages\\pandas\\core\\indexes\\base.py:3655\u001B[0m, in \u001B[0;36mIndex.get_loc\u001B[1;34m(self, key)\u001B[0m\n\u001B[0;32m   3653\u001B[0m     \u001B[38;5;28;01mreturn\u001B[39;00m \u001B[38;5;28mself\u001B[39m\u001B[38;5;241m.\u001B[39m_engine\u001B[38;5;241m.\u001B[39mget_loc(casted_key)\n\u001B[0;32m   3654\u001B[0m \u001B[38;5;28;01mexcept\u001B[39;00m \u001B[38;5;167;01mKeyError\u001B[39;00m \u001B[38;5;28;01mas\u001B[39;00m err:\n\u001B[1;32m-> 3655\u001B[0m     \u001B[38;5;28;01mraise\u001B[39;00m \u001B[38;5;167;01mKeyError\u001B[39;00m(key) \u001B[38;5;28;01mfrom\u001B[39;00m \u001B[38;5;21;01merr\u001B[39;00m\n\u001B[0;32m   3656\u001B[0m \u001B[38;5;28;01mexcept\u001B[39;00m \u001B[38;5;167;01mTypeError\u001B[39;00m:\n\u001B[0;32m   3657\u001B[0m     \u001B[38;5;66;03m# If we have a listlike key, _check_indexing_error will raise\u001B[39;00m\n\u001B[0;32m   3658\u001B[0m     \u001B[38;5;66;03m#  InvalidIndexError. Otherwise we fall through and re-raise\u001B[39;00m\n\u001B[0;32m   3659\u001B[0m     \u001B[38;5;66;03m#  the TypeError.\u001B[39;00m\n\u001B[0;32m   3660\u001B[0m     \u001B[38;5;28mself\u001B[39m\u001B[38;5;241m.\u001B[39m_check_indexing_error(key)\n",
      "\u001B[1;31mKeyError\u001B[0m: 'Joey'"
     ]
    }
   ],
   "execution_count": 7
  },
  {
   "metadata": {},
   "cell_type": "code",
   "outputs": [],
   "execution_count": null,
   "source": "",
   "id": "2dcedd4a212fe0ae"
  }
 ],
 "metadata": {
  "kernelspec": {
   "display_name": "Python 3",
   "language": "python",
   "name": "python3"
  },
  "language_info": {
   "codemirror_mode": {
    "name": "ipython",
    "version": 2
   },
   "file_extension": ".py",
   "mimetype": "text/x-python",
   "name": "python",
   "nbconvert_exporter": "python",
   "pygments_lexer": "ipython2",
   "version": "2.7.6"
  }
 },
 "nbformat": 4,
 "nbformat_minor": 5
}
